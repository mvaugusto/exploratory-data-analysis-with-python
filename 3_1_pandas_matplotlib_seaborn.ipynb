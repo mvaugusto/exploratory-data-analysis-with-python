{
 "cells": [
  {
   "cell_type": "code",
   "execution_count": null,
   "metadata": {},
   "outputs": [],
   "source": [
    "import pandas as pd #para trabalhar com dataframes"
   ]
  },
  {
   "cell_type": "code",
   "execution_count": null,
   "metadata": {},
   "outputs": [],
   "source": [
    "import numpy as np # para calculos em vetor unidimensional(array, lista) e multidimensional(matriz)"
   ]
  },
  {
   "cell_type": "code",
   "execution_count": null,
   "metadata": {},
   "outputs": [],
   "source": [
    "import warnings\n",
    "warnings.filterwarnings('ignore') #desabilita a exibição de alguns warnings"
   ]
  },
  {
   "cell_type": "markdown",
   "metadata": {},
   "source": [
    "agora vamos ler uma base em csv e jogar num dataframe do pandas"
   ]
  },
  {
   "cell_type": "code",
   "execution_count": null,
   "metadata": {},
   "outputs": [],
   "source": [
    "df_pd = pd.read_csv(r\"C:\\Users\\mvaug\\Desktop\\4linux\\arquivos\\IRIS.csv\") #função do pandas que retorna um dataframe"
   ]
  },
  {
   "cell_type": "markdown",
   "metadata": {},
   "source": [
    "na linha acima, tem um r minusculo antes do endereço do arquivo, isso é para gerar uma raw string, se não o windows converte o caminho do jeito dele e não encontra o arquivo"
   ]
  },
  {
   "cell_type": "code",
   "execution_count": null,
   "metadata": {},
   "outputs": [],
   "source": [
    "df_pd # amostra do dataframe head e tail "
   ]
  },
  {
   "cell_type": "code",
   "execution_count": null,
   "metadata": {},
   "outputs": [],
   "source": [
    "df_pd.shape #mostra dimensões do dataframe, linhas e colunas"
   ]
  },
  {
   "cell_type": "code",
   "execution_count": null,
   "metadata": {},
   "outputs": [],
   "source": [
    "df_pd.columns #pega o nome das colunas"
   ]
  },
  {
   "cell_type": "code",
   "execution_count": null,
   "metadata": {},
   "outputs": [],
   "source": [
    " df_pd.head() #cabeça, primeiros itens"
   ]
  },
  {
   "cell_type": "code",
   "execution_count": null,
   "metadata": {},
   "outputs": [],
   "source": [
    "df_pd.tail() # cauda, ultimos itens"
   ]
  },
  {
   "cell_type": "code",
   "execution_count": null,
   "metadata": {},
   "outputs": [],
   "source": [
    "df_pd.index"
   ]
  },
  {
   "cell_type": "code",
   "execution_count": null,
   "metadata": {},
   "outputs": [],
   "source": [
    "df_pd.values"
   ]
  },
  {
   "cell_type": "code",
   "execution_count": null,
   "metadata": {},
   "outputs": [],
   "source": [
    "df_pd.describe() #é tipo o summary do rstudio, muito útil"
   ]
  },
  {
   "cell_type": "code",
   "execution_count": null,
   "metadata": {},
   "outputs": [],
   "source": [
    "df_pd.T # transposta"
   ]
  },
  {
   "cell_type": "code",
   "execution_count": null,
   "metadata": {},
   "outputs": [],
   "source": [
    "df_pd.sort_index(axis=1, ascending=False) #ordenando-o pelo eixo 1 decrescente"
   ]
  },
  {
   "cell_type": "code",
   "execution_count": null,
   "metadata": {},
   "outputs": [],
   "source": [
    "df_pd.sort_index(axis=0, ascending=False)  #ordenando-o pelo eixo 0 decrescente"
   ]
  },
  {
   "cell_type": "code",
   "execution_count": null,
   "metadata": {},
   "outputs": [],
   "source": [
    "df_pd['variety'].value_counts() #conta quantos elementos tem pela coluna 'variety'"
   ]
  },
  {
   "cell_type": "markdown",
   "metadata": {},
   "source": [
    "Agora vamos usar ferramentas da bibliotéca matplotlib"
   ]
  },
  {
   "cell_type": "code",
   "execution_count": null,
   "metadata": {},
   "outputs": [],
   "source": [
    "import matplotlib.pyplot as plt #visualização de dados, plotagem"
   ]
  },
  {
   "cell_type": "code",
   "execution_count": null,
   "metadata": {},
   "outputs": [],
   "source": [
    "from pandas.plotting import radviz #vai precisar para mostrar o quao perto cada classe está da outra, tipo uma dispersão "
   ]
  },
  {
   "cell_type": "code",
   "execution_count": null,
   "metadata": {},
   "outputs": [],
   "source": [
    "plt.figure() #Instanciando a plotagem da figura:\n",
    "radviz(df_pd, 'variety') #Plotagem o gráfico:"
   ]
  },
  {
   "cell_type": "markdown",
   "metadata": {},
   "source": [
    "scatter plot é o famoso gráfico de dispersão,\n",
    "\n"
   ]
  },
  {
   "cell_type": "markdown",
   "metadata": {},
   "source": [
    "O código abaixo percorre as 150 linhas do dataframe verificando a coluna 'variety' para mudar a cor no gráfico de dispersão"
   ]
  },
  {
   "cell_type": "code",
   "execution_count": null,
   "metadata": {},
   "outputs": [],
   "source": [
    "for n in range(0,150):\n",
    "    if df_pd['variety'][n] == 'Setosa':\n",
    "        plt.scatter(df_pd['sepal.length'][n],df_pd['sepal.width'][n],color='red')\n",
    "        plt.xlabel('sepal.length')\n",
    "        plt.ylabel('sepal.width')\n",
    "    elif df_pd['variety'][n] == 'Versicolor':\n",
    "        plt.scatter(df_pd['sepal.length'][n],df_pd['sepal.width'][n],color='blue')\n",
    "    else:\n",
    "        plt.scatter(df_pd['sepal.length'][n],df_pd['sepal.width'][n],color='green')"
   ]
  },
  {
   "cell_type": "markdown",
   "metadata": {},
   "source": [
    "Geração de gráficos com a bibliotéca Seaborn, que gera visualizações um pouco mais \"bonitinhas\" que o matplotlib puro"
   ]
  },
  {
   "cell_type": "code",
   "execution_count": null,
   "metadata": {},
   "outputs": [],
   "source": [
    "import seaborn as sns"
   ]
  },
  {
   "cell_type": "code",
   "execution_count": null,
   "metadata": {},
   "outputs": [],
   "source": [
    "sns.countplot(df_pd[\"variety\"]) # para variaveis categóricas"
   ]
  },
  {
   "cell_type": "code",
   "execution_count": null,
   "metadata": {},
   "outputs": [],
   "source": [
    "sns.lineplot('petal.length', 'petal.width', hue='variety', style='variety', data=df_pd)"
   ]
  },
  {
   "cell_type": "code",
   "execution_count": null,
   "metadata": {},
   "outputs": [],
   "source": []
  },
  {
   "cell_type": "code",
   "execution_count": null,
   "metadata": {},
   "outputs": [],
   "source": []
  },
  {
   "cell_type": "markdown",
   "metadata": {},
   "source": [
    "face grid: cores para as classes, escala de visualização, adicona legenda"
   ]
  },
  {
   "cell_type": "code",
   "execution_count": null,
   "metadata": {},
   "outputs": [],
   "source": [
    "sns.FacetGrid(df_pd, hue=\"variety\", size=5).map(plt.scatter,'sepal.length','sepal.width').add_legend()"
   ]
  },
  {
   "cell_type": "markdown",
   "metadata": {},
   "source": [
    "Agora vamos brincar com outras \"ferramentinhas\" / comandinhos da biblioteca seaborn"
   ]
  },
  {
   "cell_type": "markdown",
   "metadata": {},
   "source": [
    "traça uma linha de regressão para todo dataframe sem distinção de classe"
   ]
  },
  {
   "cell_type": "code",
   "execution_count": null,
   "metadata": {},
   "outputs": [],
   "source": [
    "sns.lmplot(x='sepal.length',y='sepal.width',data=df_pd) "
   ]
  },
  {
   "cell_type": "markdown",
   "metadata": {},
   "source": [
    "traça uma linha de regressão para todo dataframe agrupando por classe"
   ]
  },
  {
   "cell_type": "code",
   "execution_count": null,
   "metadata": {},
   "outputs": [],
   "source": [
    "sns.lmplot(x='sepal.length',y='sepal.width',data=df_pd,hue='variety')"
   ]
  },
  {
   "cell_type": "markdown",
   "metadata": {},
   "source": [
    "traça uma linha de regressão para todo dataframe agrupando por classe, mostrando separadamente"
   ]
  },
  {
   "cell_type": "code",
   "execution_count": null,
   "metadata": {},
   "outputs": [],
   "source": [
    "sns.lmplot(x='sepal.length',y='sepal.width',data=df_pd,hue='variety', col='variety') #visualizando individualmente"
   ]
  },
  {
   "cell_type": "markdown",
   "metadata": {},
   "source": [
    "Markdown para o item abaixo"
   ]
  },
  {
   "cell_type": "code",
   "execution_count": null,
   "metadata": {},
   "outputs": [],
   "source": [
    "plt.subplot(2,2,1)\n",
    "sns.stripplot(x=\"variety\", y=\"sepal.length\", data=df_pd, jitter=True)\n",
    "plt.subplot(2,2,2)\n",
    "sns.stripplot(x=\"variety\", y=\"sepal.width\", data=df_pd, jitter=True)\n",
    "plt.subplot(2,2,3)\n",
    "sns.stripplot(x=\"variety\", y=\"petal.length\", data=df_pd, jitter=True)\n",
    "plt.subplot(2,2,4)\n",
    "sns.stripplot(x=\"variety\", y=\"petal.width\", data=df_pd, jitter=True)"
   ]
  },
  {
   "cell_type": "markdown",
   "metadata": {},
   "source": [
    "boxplot, um dos meus preferidos :)"
   ]
  },
  {
   "cell_type": "code",
   "execution_count": null,
   "metadata": {},
   "outputs": [],
   "source": [
    "plt.style.use('ggplot')\n",
    "plt.subplot(2,2,1)\n",
    "sns.boxplot(x=\"variety\", y=\"sepal.length\", data=df_pd)\n",
    "plt.subplot(2,2,2)\n",
    "sns.boxplot(x=\"variety\", y=\"sepal.width\", data=df_pd)\n",
    "plt.subplot(2,2,3)\n",
    "sns.boxplot(x=\"variety\", y=\"petal.length\", data=df_pd)\n",
    "plt.subplot(2,2,4)\n",
    "sns.boxplot(x=\"variety\", y=\"petal.width\", data=df_pd)"
   ]
  },
  {
   "cell_type": "markdown",
   "metadata": {},
   "source": [
    "\"box plot\" violino"
   ]
  },
  {
   "cell_type": "code",
   "execution_count": null,
   "metadata": {},
   "outputs": [],
   "source": [
    "plt.style.use('ggplot')\n",
    "plt.subplot(2,2,1)\n",
    "sns.violinplot(x=\"variety\", y=\"sepal.length\", data=df_pd)\n",
    "plt.subplot(2,2,2)\n",
    "sns.violinplot(x=\"variety\", y=\"sepal.width\", data=df_pd)\n",
    "plt.subplot(2,2,3)\n",
    "sns.violinplot(x=\"variety\", y=\"petal.length\", data=df_pd)\n",
    "plt.subplot(2,2,4)\n",
    "sns.violinplot(x=\"variety\", y=\"petal.width\", data=df_pd)"
   ]
  },
  {
   "cell_type": "markdown",
   "metadata": {},
   "source": [
    "analisar todos os dados de uma vez, dá pra perceber correlação, densidades, hitograma"
   ]
  },
  {
   "cell_type": "code",
   "execution_count": null,
   "metadata": {},
   "outputs": [],
   "source": [
    "sns.pairplot(df_pd,hue=\"variety\")"
   ]
  },
  {
   "cell_type": "code",
   "execution_count": null,
   "metadata": {},
   "outputs": [],
   "source": []
  },
  {
   "cell_type": "code",
   "execution_count": null,
   "metadata": {},
   "outputs": [],
   "source": [
    "sns.jointplot(x=\"sepal.length\",y=\"sepal.width\", data=df_pd) # dispersão + concentração"
   ]
  },
  {
   "cell_type": "markdown",
   "metadata": {},
   "source": [
    "residuos"
   ]
  },
  {
   "cell_type": "code",
   "execution_count": null,
   "metadata": {},
   "outputs": [],
   "source": [
    "sns.residplot(x='sepal.length',y='sepal.width',data=df_pd)"
   ]
  },
  {
   "cell_type": "code",
   "execution_count": null,
   "metadata": {},
   "outputs": [],
   "source": []
  },
  {
   "cell_type": "code",
   "execution_count": null,
   "metadata": {},
   "outputs": [],
   "source": []
  },
  {
   "cell_type": "code",
   "execution_count": null,
   "metadata": {},
   "outputs": [],
   "source": []
  }
 ],
 "metadata": {
  "kernelspec": {
   "display_name": "Python 3",
   "language": "python",
   "name": "python3"
  },
  "language_info": {
   "codemirror_mode": {
    "name": "ipython",
    "version": 3
   },
   "file_extension": ".py",
   "mimetype": "text/x-python",
   "name": "python",
   "nbconvert_exporter": "python",
   "pygments_lexer": "ipython3",
   "version": "3.8.5"
  }
 },
 "nbformat": 4,
 "nbformat_minor": 4
}

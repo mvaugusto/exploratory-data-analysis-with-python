{
 "cells": [
  {
   "cell_type": "code",
   "execution_count": null,
   "metadata": {},
   "outputs": [],
   "source": [
    "import pandas as pd\n",
    "import numpy as np\n",
    "import matplotlib.pyplot as plt\n",
    "import seaborn as sns\n",
    "%matplotlib inline"
   ]
  },
  {
   "cell_type": "code",
   "execution_count": null,
   "metadata": {
    "scrolled": true
   },
   "outputs": [],
   "source": [
    "df1 = pd.read_csv(r'C:\\Users\\mvaug\\Google Drive\\MACK\\BIG DATA ANALYTICS_ APLICAÇÃO DE CONHECIMENTO [TURMA 01N1] - 2021_1\\datasets\\consumidorgovbr_amplo2021-01.csv',sep=';')"
   ]
  },
  {
   "cell_type": "code",
   "execution_count": null,
   "metadata": {},
   "outputs": [],
   "source": [
    "df1.head().T"
   ]
  },
  {
   "cell_type": "code",
   "execution_count": null,
   "metadata": {
    "scrolled": false
   },
   "outputs": [],
   "source": [
    "# um count básico, exibindo missing também\n",
    "df1['Nota do Consumidor'].value_counts(dropna=False)"
   ]
  },
  {
   "cell_type": "code",
   "execution_count": null,
   "metadata": {},
   "outputs": [],
   "source": []
  },
  {
   "cell_type": "code",
   "execution_count": null,
   "metadata": {},
   "outputs": [],
   "source": []
  },
  {
   "cell_type": "code",
   "execution_count": null,
   "metadata": {},
   "outputs": [],
   "source": []
  },
  {
   "cell_type": "code",
   "execution_count": null,
   "metadata": {},
   "outputs": [],
   "source": []
  },
  {
   "cell_type": "code",
   "execution_count": null,
   "metadata": {},
   "outputs": [],
   "source": []
  },
  {
   "cell_type": "code",
   "execution_count": null,
   "metadata": {},
   "outputs": [],
   "source": []
  },
  {
   "cell_type": "code",
   "execution_count": null,
   "metadata": {},
   "outputs": [],
   "source": []
  },
  {
   "cell_type": "code",
   "execution_count": null,
   "metadata": {},
   "outputs": [],
   "source": []
  },
  {
   "cell_type": "code",
   "execution_count": null,
   "metadata": {},
   "outputs": [],
   "source": [
    "# trata missing NaN\n",
    "df1['Nota do Consumidor'] = df1['Nota do Consumidor'].fillna('Não Respondido')"
   ]
  },
  {
   "cell_type": "code",
   "execution_count": null,
   "metadata": {},
   "outputs": [],
   "source": [
    "#sumariza: conta total\n",
    "df1['Nota do Consumidor'].agg(['count'])"
   ]
  },
  {
   "cell_type": "code",
   "execution_count": null,
   "metadata": {
    "scrolled": true
   },
   "outputs": [],
   "source": [
    "#sumariza: conta por agrupamento\n",
    "df1.groupby('Nota do Consumidor')['Nota do Consumidor'].agg(['count'])"
   ]
  },
  {
   "cell_type": "code",
   "execution_count": null,
   "metadata": {},
   "outputs": [],
   "source": [
    "# joga em uma variavel\n",
    "a = df1.groupby('Nota do Consumidor')['Nota do Consumidor'].agg(['count'])"
   ]
  },
  {
   "cell_type": "code",
   "execution_count": null,
   "metadata": {
    "scrolled": true
   },
   "outputs": [],
   "source": [
    "print(a)"
   ]
  },
  {
   "cell_type": "code",
   "execution_count": null,
   "metadata": {},
   "outputs": [],
   "source": [
    "type(a) #pandas.core.frame.DataFrame"
   ]
  },
  {
   "cell_type": "code",
   "execution_count": null,
   "metadata": {},
   "outputs": [],
   "source": [
    "a.index"
   ]
  },
  {
   "cell_type": "code",
   "execution_count": null,
   "metadata": {},
   "outputs": [],
   "source": [
    "a['count']"
   ]
  },
  {
   "cell_type": "code",
   "execution_count": null,
   "metadata": {
    "scrolled": true
   },
   "outputs": [],
   "source": [
    "# Pie chart\n",
    "#explosion\n",
    "explode = (0.07,0.07,0.07,0.07,0.07,0.07)\n",
    "\n",
    "#matplotlib pie chart\n",
    "a.plot.pie(autopct=\"%.1f%%\",\n",
    "           subplots=True, \n",
    "           explode = explode,\n",
    "           #startangle=90, \n",
    "           pctdistance=0.85)\n",
    "\n",
    "#coloca legenda fora do quadro do gráfico\n",
    "plt.legend(loc='center left', \n",
    "           bbox_to_anchor=(1.0, 0.5),\n",
    "           title=\"Nota dada pelo Consumidor\",)\n",
    "\n",
    "#draw circle\n",
    "centre_circle = plt.Circle((0,0),0.70,fc='white')\n",
    "fig = plt.gcf()\n",
    "fig.gca().add_artist(centre_circle)\n",
    "\n",
    "## Equal aspect ratio ensures that pie is drawn as a circle\n",
    "#ax1.axis('equal')  \n",
    "#plt.tight_layout()\n",
    "#plt.show()"
   ]
  },
  {
   "cell_type": "code",
   "execution_count": null,
   "metadata": {},
   "outputs": [],
   "source": [
    "# Pie chart, where the slices will be ordered and plotted counter-clockwise:\n",
    "sizes = a['count']\n",
    "labels = a.index\n",
    "#explode = (0.2, 0.2, 0.2, 0.2, 0.2, 0.2)  # \"explode\" the slice\n",
    "fig1, ax1 = plt.subplots()\n",
    "ax1.pie(sizes,\n",
    "        labels=labels,\n",
    "        explode=explode,        \n",
    "        autopct='%1.1f%%',\n",
    "        shadow=True, \n",
    "        #startangle=90,\n",
    "        pctdistance=0.80\n",
    "       )\n",
    "#ax1.axis('equal')  # Equal aspect ratio ensures that pie is drawn as a circle.\n",
    "\n",
    "#coloca legenda fora do quadro do gráfico\n",
    "plt.legend(bbox_to_anchor=(1.05, 1), \n",
    "           title=\"Nota dada pelo Consumidor\",\n",
    "           loc='upper left', \n",
    "           borderaxespad=0.\n",
    "          )\n",
    "\n",
    "plt.show()"
   ]
  },
  {
   "cell_type": "code",
   "execution_count": null,
   "metadata": {},
   "outputs": [],
   "source": []
  },
  {
   "cell_type": "code",
   "execution_count": null,
   "metadata": {},
   "outputs": [],
   "source": []
  },
  {
   "cell_type": "code",
   "execution_count": null,
   "metadata": {},
   "outputs": [],
   "source": []
  },
  {
   "cell_type": "code",
   "execution_count": null,
   "metadata": {},
   "outputs": [],
   "source": []
  },
  {
   "cell_type": "code",
   "execution_count": null,
   "metadata": {},
   "outputs": [],
   "source": []
  },
  {
   "cell_type": "code",
   "execution_count": null,
   "metadata": {},
   "outputs": [],
   "source": []
  },
  {
   "cell_type": "code",
   "execution_count": null,
   "metadata": {},
   "outputs": [],
   "source": []
  },
  {
   "cell_type": "code",
   "execution_count": null,
   "metadata": {},
   "outputs": [],
   "source": [
    "#Seaborn barplot\n",
    "sns.set_style(\"whitegrid\")\n",
    "bar,ax = plt.subplots(figsize=(10,6))\n",
    "ax = sns.barplot(x=a.index, y='count', data=a, ci=None, palette=\"muted\",orient='v', )\n",
    "ax.set_title(\"Notas de Satisfação do Consumidor\", fontsize=15)\n",
    "ax.set_xlabel (\"Nota do Consumidor\")\n",
    "ax.set_ylabel (\"count\")\n",
    "## calculate the percentages and annotate the sns barplot\n",
    "for rect in ax.patches:\n",
    "    ax.text (rect.get_x() + rect.get_width() / 2,rect.get_height(),\"%d\"% rect.get_height(), weight='bold' )\n",
    "#    ax.text (rect.get_x() + rect.get_width() / 2,rect.get_height(),\"%.1f%%\"% rect.get_height(), weight='bold' )\n",
    "#bar.savefig(\"Seaborn_Pie_Chart.png\");\n",
    "\n",
    "#\"%c\"%"
   ]
  },
  {
   "cell_type": "code",
   "execution_count": null,
   "metadata": {},
   "outputs": [],
   "source": []
  },
  {
   "cell_type": "code",
   "execution_count": null,
   "metadata": {},
   "outputs": [],
   "source": [
    "#separando as bases"
   ]
  },
  {
   "cell_type": "code",
   "execution_count": null,
   "metadata": {},
   "outputs": [],
   "source": [
    "df1.head().T"
   ]
  },
  {
   "cell_type": "code",
   "execution_count": null,
   "metadata": {},
   "outputs": [],
   "source": [
    "df_respondidos = df1.loc[df1['Nota do Consumidor'] != 'Não Respondido']"
   ]
  },
  {
   "cell_type": "code",
   "execution_count": null,
   "metadata": {},
   "outputs": [],
   "source": [
    "df_nao_respondidos = df1.loc[df1['Nota do Consumidor'] == 'Não Respondido']"
   ]
  },
  {
   "cell_type": "code",
   "execution_count": null,
   "metadata": {
    "scrolled": true
   },
   "outputs": [],
   "source": [
    "df_respondidos.head().T"
   ]
  },
  {
   "cell_type": "code",
   "execution_count": null,
   "metadata": {},
   "outputs": [],
   "source": [
    "df_nao_respondidos.head().T"
   ]
  },
  {
   "cell_type": "code",
   "execution_count": null,
   "metadata": {},
   "outputs": [],
   "source": [
    "df_nao_respondidos['UF'].value_counts(dropna=False)"
   ]
  },
  {
   "cell_type": "code",
   "execution_count": null,
   "metadata": {},
   "outputs": [],
   "source": [
    "df_nao_respondidos['Gestor'].value_counts(dropna=False)"
   ]
  },
  {
   "cell_type": "code",
   "execution_count": null,
   "metadata": {},
   "outputs": [],
   "source": [
    "df_nao_respondidos['Sexo'].value_counts(dropna=False)"
   ]
  },
  {
   "cell_type": "code",
   "execution_count": null,
   "metadata": {},
   "outputs": [],
   "source": [
    "df_nao_respondidos['Faixa Etária'].value_counts(dropna=False)"
   ]
  },
  {
   "cell_type": "code",
   "execution_count": null,
   "metadata": {},
   "outputs": [],
   "source": [
    "df_nao_respondidos['Tempo Resposta'].value_counts(dropna=False)"
   ]
  },
  {
   "cell_type": "code",
   "execution_count": null,
   "metadata": {},
   "outputs": [],
   "source": [
    "df_nao_respondidos['Nome Fantasia'].value_counts(dropna=False)"
   ]
  },
  {
   "cell_type": "code",
   "execution_count": null,
   "metadata": {},
   "outputs": [],
   "source": [
    "df_nao_respondidos.columns"
   ]
  },
  {
   "cell_type": "code",
   "execution_count": null,
   "metadata": {},
   "outputs": [],
   "source": [
    "df_nao_respondidos.corr()"
   ]
  },
  {
   "cell_type": "code",
   "execution_count": null,
   "metadata": {},
   "outputs": [],
   "source": [
    "df_nao_respondidos_sem_datas = df_nao_respondidos[['Gestor', 'Canal de Origem', 'Região', 'UF', 'Cidade', 'Sexo',\n",
    "       'Faixa Etária', 'Prazo Analise Gestor', 'Tempo Resposta',\n",
    "       'Nome Fantasia', 'Segmento de Mercado', 'Área', 'Assunto',\n",
    "       'Grupo Problema', 'Problema', 'Como Comprou Contratou',\n",
    "       'Procurou Empresa', 'Respondida', 'Situação', 'Avaliação Reclamação',\n",
    "       'Nota do Consumidor', 'Análise da Recusa']]"
   ]
  },
  {
   "cell_type": "code",
   "execution_count": null,
   "metadata": {},
   "outputs": [],
   "source": [
    "df_nao_respondidos_sem_datas.corr()"
   ]
  },
  {
   "cell_type": "code",
   "execution_count": null,
   "metadata": {},
   "outputs": [],
   "source": [
    "df_nao_respondidos_sem_datas.describe()"
   ]
  },
  {
   "cell_type": "code",
   "execution_count": null,
   "metadata": {},
   "outputs": [],
   "source": [
    "sns.pairplot(df_nao_respondidos_sem_datas)"
   ]
  },
  {
   "cell_type": "code",
   "execution_count": null,
   "metadata": {},
   "outputs": [],
   "source": []
  }
 ],
 "metadata": {
  "kernelspec": {
   "display_name": "Python 3",
   "language": "python",
   "name": "python3"
  },
  "language_info": {
   "codemirror_mode": {
    "name": "ipython",
    "version": 3
   },
   "file_extension": ".py",
   "mimetype": "text/x-python",
   "name": "python",
   "nbconvert_exporter": "python",
   "pygments_lexer": "ipython3",
   "version": "3.8.5"
  }
 },
 "nbformat": 4,
 "nbformat_minor": 4
}
